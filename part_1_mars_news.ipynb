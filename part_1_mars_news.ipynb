{
 "cells": [
  {
   "attachments": {},
   "cell_type": "markdown",
   "metadata": {},
   "source": [
    "# Module 12 Challenge\n",
    "## Deliverable 1: Scrape Titles and Preview Text from Mars News"
   ]
  },
  {
   "cell_type": "code",
   "execution_count": 4,
   "metadata": {},
   "outputs": [],
   "source": [
    "# Import Splinter and BeautifulSoup\n",
    "from splinter import Browser\n",
    "from bs4 import BeautifulSoup as soup"
   ]
  },
  {
   "cell_type": "code",
   "execution_count": 5,
   "metadata": {
    "scrolled": true
   },
   "outputs": [],
   "source": [
    "browser = Browser('chrome')"
   ]
  },
  {
   "attachments": {},
   "cell_type": "markdown",
   "metadata": {},
   "source": [
    "### Step 1: Visit the Website\n",
    "\n",
    "1. Use automated browsing to visit the [Mars news site](https://static.bc-edx.com/data/web/mars_news/index.html). Inspect the page to identify which elements to scrape.\n",
    "\n",
    "      > **Hint** To identify which elements to scrape, you might want to inspect the page by using Chrome DevTools."
   ]
  },
  {
   "cell_type": "code",
   "execution_count": 6,
   "metadata": {},
   "outputs": [],
   "source": [
    "# Visit the Mars news site\n",
    "url = 'https://static.bc-edx.com/data/web/mars_news/index.html'\n",
    "browser.visit(url)"
   ]
  },
  {
   "attachments": {},
   "cell_type": "markdown",
   "metadata": {},
   "source": [
    "### Step 2: Scrape the Website\n",
    "\n",
    "Create a Beautiful Soup object and use it to extract text elements from the website."
   ]
  },
  {
   "cell_type": "code",
   "execution_count": 7,
   "metadata": {},
   "outputs": [],
   "source": [
    "# Create a Beautiful Soup object\n",
    "html = browser.html\n",
    "html_soup = soup(html, 'html.parser')"
   ]
  },
  {
   "cell_type": "code",
   "execution_count": 61,
   "metadata": {},
   "outputs": [
    {
     "name": "stdout",
     "output_type": "stream",
     "text": [
      "[<div class=\"list_text\">\n",
      "<div class=\"list_date\">November 9, 2022</div>\n",
      "<div class=\"content_title\">NASA's MAVEN Observes Martian Light Show Caused by Major Solar Storm</div>\n",
      "<div class=\"article_teaser_body\">For the first time in its eight years orbiting Mars, NASA’s MAVEN mission witnessed two different types of ultraviolet aurorae simultaneously, the result of solar storms that began on Aug. 27.</div>\n",
      "</div>, <div class=\"list_text\">\n",
      "<div class=\"list_date\">November 1, 2022</div>\n",
      "<div class=\"content_title\">NASA Prepares to Say 'Farewell' to InSight Spacecraft</div>\n",
      "<div class=\"article_teaser_body\">A closer look at what goes into wrapping up the mission as the spacecraft’s power supply continues to dwindle.</div>\n",
      "</div>, <div class=\"list_text\">\n",
      "<div class=\"list_date\">October 28, 2022</div>\n",
      "<div class=\"content_title\">NASA and ESA Agree on Next Steps to Return Mars Samples to Earth</div>\n",
      "<div class=\"article_teaser_body\">The agency’s Perseverance rover will establish the first sample depot on Mars.</div>\n",
      "</div>, <div class=\"list_text\">\n",
      "<div class=\"list_date\">October 27, 2022</div>\n",
      "<div class=\"content_title\">NASA's InSight Lander Detects Stunning Meteoroid Impact on Mars</div>\n",
      "<div class=\"article_teaser_body\">The agency’s lander felt the ground shake during the impact while cameras aboard the Mars Reconnaissance Orbiter spotted the yawning new crater from space.</div>\n",
      "</div>, <div class=\"list_text\">\n",
      "<div class=\"list_date\">October 21, 2022</div>\n",
      "<div class=\"content_title\">NASA To Host Briefing on InSight, Mars Reconnaissance Orbiter Findings</div>\n",
      "<div class=\"article_teaser_body\">Scientists from two Mars missions will discuss how they combined images and data for a major finding on the Red Planet.</div>\n",
      "</div>, <div class=\"list_text\">\n",
      "<div class=\"list_date\">October 20, 2022</div>\n",
      "<div class=\"content_title\">Why NASA Is Trying To Crash Land on Mars</div>\n",
      "<div class=\"article_teaser_body\">Like a car’s crumple zone, the experimental SHIELD lander is designed to absorb a hard impact.</div>\n",
      "</div>, <div class=\"list_text\">\n",
      "<div class=\"list_date\">October 19, 2022</div>\n",
      "<div class=\"content_title\">Curiosity Mars Rover Reaches Long-Awaited Salty Region</div>\n",
      "<div class=\"article_teaser_body\">After years of climbing, the Mars rover has arrived at a special region believed to have formed as Mars’ climate was drying.</div>\n",
      "</div>, <div class=\"list_text\">\n",
      "<div class=\"list_date\">October 12, 2022</div>\n",
      "<div class=\"content_title\">Mars Mission Shields Up for Tests</div>\n",
      "<div class=\"article_teaser_body\">Protecting Mars Sample Return spacecraft from micrometeorites requires high-caliber work.</div>\n",
      "</div>, <div class=\"list_text\">\n",
      "<div class=\"list_date\">October 7, 2022</div>\n",
      "<div class=\"content_title\">NASA's InSight Waits Out Dust Storm</div>\n",
      "<div class=\"article_teaser_body\">InSight’s team is taking steps to help the solar-powered lander continue operating for as long as possible.</div>\n",
      "</div>, <div class=\"list_text\">\n",
      "<div class=\"list_date\">September 19, 2022</div>\n",
      "<div class=\"content_title\">NASA's InSight 'Hears' Its First Meteoroid Impacts on Mars</div>\n",
      "<div class=\"article_teaser_body\">The Mars lander’s seismometer has picked up vibrations from four separate impacts in the past two years.</div>\n",
      "</div>, <div class=\"list_text\">\n",
      "<div class=\"list_date\">September 15, 2022</div>\n",
      "<div class=\"content_title\">NASA's Perseverance Rover Investigates Geologically Rich Mars Terrain</div>\n",
      "<div class=\"article_teaser_body\">The latest findings provide greater detail on a region of the Red Planet that has a watery past and is yielding promising samples for the NASA-ESA Mars Sample Return campaign.</div>\n",
      "</div>, <div class=\"list_text\">\n",
      "<div class=\"list_date\">September 12, 2022</div>\n",
      "<div class=\"content_title\">NASA to Host Briefing on Perseverance Mars Rover Mission Operations</div>\n",
      "<div class=\"article_teaser_body\">Members of the mission will discuss the rover’s activities as it gathers samples in an ancient river delta.</div>\n",
      "</div>, <div class=\"list_text\">\n",
      "<div class=\"list_date\">August 25, 2022</div>\n",
      "<div class=\"content_title\">NASA's Perseverance Makes New Discoveries in Mars' Jezero Crater</div>\n",
      "<div class=\"article_teaser_body\">The rover found that Jezero Crater’s floor is made up of volcanic rocks that have interacted with water.</div>\n",
      "</div>, <div class=\"list_text\">\n",
      "<div class=\"list_date\">August 5, 2022</div>\n",
      "<div class=\"content_title\">10 Years Since Landing, NASA's Curiosity Mars Rover Still Has Drive</div>\n",
      "<div class=\"article_teaser_body\">Despite signs of wear, the intrepid spacecraft is about to start an exciting new chapter of its mission as it climbs a Martian mountain.</div>\n",
      "</div>, <div class=\"list_text\">\n",
      "<div class=\"list_date\">August 4, 2022</div>\n",
      "<div class=\"content_title\">SAM's Top 5 Discoveries Aboard NASA's Curiosity Rover at Mars</div>\n",
      "<div class=\"article_teaser_body\">“Selfie” of the Curiosity rover with inset showing the SAM instrument prior to installation on the rover.</div>\n",
      "</div>]\n"
     ]
    }
   ],
   "source": [
    "# Extract all the text elements\n",
    "#table = html_soup.find('div', class_='news')\n",
    "\n",
    "#main_area = html_soup.find('div', class_=\"container \")\n",
    "\n",
    "articles = html_soup.find_all('div', class_='list_text')\n",
    "#print(articles)"
   ]
  },
  {
   "attachments": {},
   "cell_type": "markdown",
   "metadata": {},
   "source": [
    "### Step 3: Store the Results\n",
    "\n",
    "Extract the titles and preview text of the news articles that you scraped. Store the scraping results in Python data structures as follows:\n",
    "\n",
    "* Store each title-and-preview pair in a Python dictionary. And, give each dictionary two keys: `title` and `preview`. An example is the following:\n",
    "\n",
    "  ```python\n",
    "  {'title': \"NASA's MAVEN Observes Martian Light Show Caused by Major Solar Storm\", \n",
    "   'preview': \"For the first time in its eight years orbiting Mars, NASA’s MAVEN mission witnessed two different types of ultraviolet aurorae simultaneously, the result of solar storms that began on Aug. 27.\"\n",
    "  }\n",
    "  ```\n",
    "\n",
    "* Store all the dictionaries in a Python list.\n",
    "\n",
    "* Print the list in your notebook."
   ]
  },
  {
   "cell_type": "code",
   "execution_count": 56,
   "metadata": {},
   "outputs": [],
   "source": [
    "# Create an empty list to store the dictionaries\n",
    "mars_news = []"
   ]
  },
  {
   "cell_type": "code",
   "execution_count": 57,
   "metadata": {},
   "outputs": [
    {
     "data": {
      "text/plain": [
       "<function __main__.get_articles()>"
      ]
     },
     "execution_count": 57,
     "metadata": {},
     "output_type": "execute_result"
    }
   ],
   "source": [
    "# Loop through the text elements\n",
    "#def get_articles():\n",
    "    #html = browser.html\n",
    "    #html_soup = soup(html, 'html.parser')\n",
    "    #table = html_soup.find('div', class_='news')\n",
    "  #  articles = table.find_all('div', class_='list_text')\n",
    "   # mars_news = []\n",
    "# Extract the title and preview text from the elements\n",
    "# Store each title and preview pair in a dictionary\n",
    "# Add the dictionary to the list\n",
    "    #for article in articles:\n",
    "    #collect article title\n",
    "     #   article_title = article.find('div', class_='content_title').text.strip()\n",
    "    #collect article preview\n",
    "      #  article_preview = article.find('div', class_='article_teaser_body')\n",
    "    #create dictionary\n",
    "       # article_summary = {\n",
    "        #\"Article Title\": article_title,\n",
    "        #\"Article Preview\": article_preview\n",
    "  #      }\n",
    " #       mars_news.append(article_summary)\n",
    "\n",
    "#    return mars_news\n",
    "\n",
    "#get_articles"
   ]
  },
  {
   "cell_type": "code",
   "execution_count": 58,
   "metadata": {},
   "outputs": [
    {
     "data": {
      "text/plain": [
       "[]"
      ]
     },
     "execution_count": 58,
     "metadata": {},
     "output_type": "execute_result"
    }
   ],
   "source": [
    "#mars_news"
   ]
  },
  {
   "cell_type": "code",
   "execution_count": 66,
   "metadata": {},
   "outputs": [],
   "source": [
    "# Loop through the text elements\n",
    "#articles = table.find_all('div', class_='list_text')\n",
    "# Extract the title and preview text from the elements\n",
    "# Store each title and preview pair in a dictionary\n",
    "# Add the dictionary to the list\n",
    "for article in articles:\n",
    "    #collect article title\n",
    "    article_title = article.find('div', class_='content_title').text\n",
    "    #collect article preview\n",
    "    article_preview = article.find('div', class_='article_teaser_body').text\n",
    "    #create dictionary\n",
    "    article_summary = {\n",
    "        \"Article Title\": article_title,\n",
    "        \"Article Preview\": article_preview\n",
    "    }\n",
    "    mars_news.append(article_summary)\n",
    "\n"
   ]
  },
  {
   "cell_type": "code",
   "execution_count": 67,
   "metadata": {},
   "outputs": [
    {
     "data": {
      "text/plain": [
       "[{'Article Title': \"NASA's MAVEN Observes Martian Light Show Caused by Major Solar Storm\",\n",
       "  'Article Preview': 'For the first time in its eight years orbiting Mars, NASA’s MAVEN mission witnessed two different types of ultraviolet aurorae simultaneously, the result of solar storms that began on Aug. 27.'},\n",
       " {'Article Title': \"NASA Prepares to Say 'Farewell' to InSight Spacecraft\",\n",
       "  'Article Preview': 'A closer look at what goes into wrapping up the mission as the spacecraft’s power supply continues to dwindle.'},\n",
       " {'Article Title': 'NASA and ESA Agree on Next Steps to Return Mars Samples to Earth',\n",
       "  'Article Preview': 'The agency’s Perseverance rover will establish the first sample depot on Mars.'},\n",
       " {'Article Title': \"NASA's InSight Lander Detects Stunning Meteoroid Impact on Mars\",\n",
       "  'Article Preview': 'The agency’s lander felt the ground shake during the impact while cameras aboard the Mars Reconnaissance Orbiter spotted the yawning new crater from space.'},\n",
       " {'Article Title': 'NASA To Host Briefing on InSight, Mars Reconnaissance Orbiter Findings',\n",
       "  'Article Preview': 'Scientists from two Mars missions will discuss how they combined images and data for a major finding on the Red Planet.'},\n",
       " {'Article Title': 'Why NASA Is Trying To Crash Land on Mars',\n",
       "  'Article Preview': 'Like a car’s crumple zone, the experimental SHIELD lander is designed to absorb a hard impact.'},\n",
       " {'Article Title': 'Curiosity Mars Rover Reaches Long-Awaited Salty Region',\n",
       "  'Article Preview': 'After years of climbing, the Mars rover has arrived at a special region believed to have formed as Mars’ climate was drying.'},\n",
       " {'Article Title': 'Mars Mission Shields Up for Tests',\n",
       "  'Article Preview': 'Protecting Mars Sample Return spacecraft from micrometeorites requires high-caliber work.'},\n",
       " {'Article Title': \"NASA's InSight Waits Out Dust Storm\",\n",
       "  'Article Preview': 'InSight’s team is taking steps to help the solar-powered lander continue operating for as long as possible.'},\n",
       " {'Article Title': \"NASA's InSight 'Hears' Its First Meteoroid Impacts on Mars\",\n",
       "  'Article Preview': 'The Mars lander’s seismometer has picked up vibrations from four separate impacts in the past two years.'},\n",
       " {'Article Title': \"NASA's Perseverance Rover Investigates Geologically Rich Mars Terrain\",\n",
       "  'Article Preview': 'The latest findings provide greater detail on a region of the Red Planet that has a watery past and is yielding promising samples for the NASA-ESA Mars Sample Return campaign.'},\n",
       " {'Article Title': 'NASA to Host Briefing on Perseverance Mars Rover Mission Operations',\n",
       "  'Article Preview': 'Members of the mission will discuss the rover’s activities as it gathers samples in an ancient river delta.'},\n",
       " {'Article Title': \"NASA's Perseverance Makes New Discoveries in Mars' Jezero Crater\",\n",
       "  'Article Preview': 'The rover found that Jezero Crater’s floor is made up of volcanic rocks that have interacted with water.'},\n",
       " {'Article Title': \"10 Years Since Landing, NASA's Curiosity Mars Rover Still Has Drive\",\n",
       "  'Article Preview': 'Despite signs of wear, the intrepid spacecraft is about to start an exciting new chapter of its mission as it climbs a Martian mountain.'},\n",
       " {'Article Title': \"SAM's Top 5 Discoveries Aboard NASA's Curiosity Rover at Mars\",\n",
       "  'Article Preview': '“Selfie” of the Curiosity rover with inset showing the SAM instrument prior to installation on the rover.'},\n",
       " {'Article Title': \"NASA's MAVEN Observes Martian Light Show Caused by Major Solar Storm\",\n",
       "  'Article Preview': 'For the first time in its eight years orbiting Mars, NASA’s MAVEN mission witnessed two different types of ultraviolet aurorae simultaneously, the result of solar storms that began on Aug. 27.'},\n",
       " {'Article Title': \"NASA Prepares to Say 'Farewell' to InSight Spacecraft\",\n",
       "  'Article Preview': 'A closer look at what goes into wrapping up the mission as the spacecraft’s power supply continues to dwindle.'},\n",
       " {'Article Title': 'NASA and ESA Agree on Next Steps to Return Mars Samples to Earth',\n",
       "  'Article Preview': 'The agency’s Perseverance rover will establish the first sample depot on Mars.'},\n",
       " {'Article Title': \"NASA's InSight Lander Detects Stunning Meteoroid Impact on Mars\",\n",
       "  'Article Preview': 'The agency’s lander felt the ground shake during the impact while cameras aboard the Mars Reconnaissance Orbiter spotted the yawning new crater from space.'},\n",
       " {'Article Title': 'NASA To Host Briefing on InSight, Mars Reconnaissance Orbiter Findings',\n",
       "  'Article Preview': 'Scientists from two Mars missions will discuss how they combined images and data for a major finding on the Red Planet.'},\n",
       " {'Article Title': 'Why NASA Is Trying To Crash Land on Mars',\n",
       "  'Article Preview': 'Like a car’s crumple zone, the experimental SHIELD lander is designed to absorb a hard impact.'},\n",
       " {'Article Title': 'Curiosity Mars Rover Reaches Long-Awaited Salty Region',\n",
       "  'Article Preview': 'After years of climbing, the Mars rover has arrived at a special region believed to have formed as Mars’ climate was drying.'},\n",
       " {'Article Title': 'Mars Mission Shields Up for Tests',\n",
       "  'Article Preview': 'Protecting Mars Sample Return spacecraft from micrometeorites requires high-caliber work.'},\n",
       " {'Article Title': \"NASA's InSight Waits Out Dust Storm\",\n",
       "  'Article Preview': 'InSight’s team is taking steps to help the solar-powered lander continue operating for as long as possible.'},\n",
       " {'Article Title': \"NASA's InSight 'Hears' Its First Meteoroid Impacts on Mars\",\n",
       "  'Article Preview': 'The Mars lander’s seismometer has picked up vibrations from four separate impacts in the past two years.'},\n",
       " {'Article Title': \"NASA's Perseverance Rover Investigates Geologically Rich Mars Terrain\",\n",
       "  'Article Preview': 'The latest findings provide greater detail on a region of the Red Planet that has a watery past and is yielding promising samples for the NASA-ESA Mars Sample Return campaign.'},\n",
       " {'Article Title': 'NASA to Host Briefing on Perseverance Mars Rover Mission Operations',\n",
       "  'Article Preview': 'Members of the mission will discuss the rover’s activities as it gathers samples in an ancient river delta.'},\n",
       " {'Article Title': \"NASA's Perseverance Makes New Discoveries in Mars' Jezero Crater\",\n",
       "  'Article Preview': 'The rover found that Jezero Crater’s floor is made up of volcanic rocks that have interacted with water.'},\n",
       " {'Article Title': \"10 Years Since Landing, NASA's Curiosity Mars Rover Still Has Drive\",\n",
       "  'Article Preview': 'Despite signs of wear, the intrepid spacecraft is about to start an exciting new chapter of its mission as it climbs a Martian mountain.'},\n",
       " {'Article Title': \"SAM's Top 5 Discoveries Aboard NASA's Curiosity Rover at Mars\",\n",
       "  'Article Preview': '“Selfie” of the Curiosity rover with inset showing the SAM instrument prior to installation on the rover.'}]"
      ]
     },
     "execution_count": 67,
     "metadata": {},
     "output_type": "execute_result"
    }
   ],
   "source": [
    "# Print the list to confirm success\n",
    "mars_news"
   ]
  },
  {
   "cell_type": "code",
   "execution_count": 68,
   "metadata": {},
   "outputs": [],
   "source": [
    "browser.quit()"
   ]
  },
  {
   "cell_type": "code",
   "execution_count": null,
   "metadata": {},
   "outputs": [],
   "source": []
  }
 ],
 "metadata": {
  "kernelspec": {
   "display_name": "Python 3 (ipykernel)",
   "language": "python",
   "name": "python3"
  },
  "language_info": {
   "codemirror_mode": {
    "name": "ipython",
    "version": 3
   },
   "file_extension": ".py",
   "mimetype": "text/x-python",
   "name": "python",
   "nbconvert_exporter": "python",
   "pygments_lexer": "ipython3",
   "version": "3.10.9"
  },
  "vscode": {
   "interpreter": {
    "hash": "31f2aee4e71d21fbe5cf8b01ff0e069b9275f58929596ceb00d14d90e3e16cd6"
   }
  }
 },
 "nbformat": 4,
 "nbformat_minor": 4
}
